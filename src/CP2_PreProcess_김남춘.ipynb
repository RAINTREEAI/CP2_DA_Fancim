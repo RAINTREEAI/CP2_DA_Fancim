{
  "cells": [
    {
      "cell_type": "code",
      "execution_count": 1,
      "metadata": {
        "colab": {
          "base_uri": "https://localhost:8080/"
        },
        "id": "FiDbb7kkdr4k",
        "outputId": "a035bee0-a545-463d-8fe2-767f352929a9"
      },
      "outputs": [
        {
          "output_type": "stream",
          "name": "stdout",
          "text": [
            "Looking in indexes: https://pypi.org/simple, https://us-python.pkg.dev/colab-wheels/public/simple/\n",
            "Requirement already satisfied: pickle-mixin in /usr/local/lib/python3.8/dist-packages (1.0.2)\n"
          ]
        }
      ],
      "source": [
        "! pip install pickle-mixin"
      ]
    },
    {
      "cell_type": "code",
      "execution_count": 2,
      "metadata": {
        "id": "5hPWxCJCd_8B"
      },
      "outputs": [],
      "source": [
        "# 워닝 은닉\n",
        "import warnings\n",
        "warnings.filterwarnings(action='ignore')"
      ]
    },
    {
      "cell_type": "code",
      "execution_count": 3,
      "metadata": {
        "id": "agdYW9tGeEzO"
      },
      "outputs": [],
      "source": [
        "# 라이브러리 import\n",
        "import pickle\n",
        "import pandas as pd\n",
        "import numpy as np\n",
        "import re"
      ]
    },
    {
      "cell_type": "code",
      "execution_count": 4,
      "metadata": {
        "id": "GcS8RPZ2eB0N"
      },
      "outputs": [],
      "source": [
        "# row 생략 없이 출력\n",
        "pd.set_option('display.max_rows', None)\n",
        "# columns 생략 없이 출력\n",
        "pd.set_option('display.max_columns', None)\n",
        "# 문자열 출력 길이\n",
        "pd.options.display.max_colwidth = 40"
      ]
    },
    {
      "cell_type": "code",
      "source": [
        "from google.colab import drive\n",
        "drive.mount('/content/drive')"
      ],
      "metadata": {
        "colab": {
          "base_uri": "https://localhost:8080/"
        },
        "id": "2ZKBBko5vAJV",
        "outputId": "faa36ff6-279c-4d11-e7e0-d0362050bbfe"
      },
      "execution_count": 5,
      "outputs": [
        {
          "output_type": "stream",
          "name": "stdout",
          "text": [
            "Drive already mounted at /content/drive; to attempt to forcibly remount, call drive.mount(\"/content/drive\", force_remount=True).\n"
          ]
        }
      ]
    },
    {
      "cell_type": "code",
      "execution_count": 6,
      "metadata": {
        "id": "sxyhajyPeDdG"
      },
      "outputs": [],
      "source": [
        "# row 데이터 불러오기\n",
        "with open('/content/drive/MyDrive/CP2/df_secured3.pickle', 'rb') as f:\n",
        "    data = pickle.load(f)"
      ]
    },
    {
      "cell_type": "code",
      "execution_count": 7,
      "metadata": {
        "id": "MxCqOw-9e9-4"
      },
      "outputs": [],
      "source": [
        "# 원본 카피\n",
        "df = data.copy()"
      ]
    },
    {
      "cell_type": "code",
      "source": [
        "# read_receipt_secured 삭제\n",
        "df.drop(columns=[\"read_receipt_secured\"], inplace=True)\n",
        "\n",
        "# 전송 날짜 타입 변경 object -> datetime\n",
        "df['created_at'] = pd.to_datetime(df['created_at'])\n",
        "\n",
        "# 닉 + 아이디\n",
        "# df[\"nick_id\"] = df[\"sender_nickname_secured\"] + \" / \" + df[\"sender_id_secured\"]\n",
        "\n",
        "# 입퇴장 시 자동 생성 메세지 행 삭제\n",
        "join = df[df['message'].str.contains('님이 참여했습니다.')].index\n",
        "df.drop(join, inplace =True)\n",
        "out = df[df['message'].str.contains('님이 나갔습니다.')].index\n",
        "df.drop(out, inplace =True)\n",
        "\n",
        "# 스티커명 컬럼 생성\n",
        "sticker_name1 = df[df[\"type\"]==\"FILE\"][\"message\"].str.split('_').str[1]\n",
        "sticker_name2 = df[df[\"type\"]==\"FILE\"][\"message\"].str.split('_').str[2]\n",
        "sticker_name3 = df[df[\"type\"]==\"FILE\"][\"message\"].str.split('_').str[3]\n",
        "sticker_name2.fillna(\"_\", inplace=True)\n",
        "sticker_name3.fillna(\"_\", inplace=True)\n",
        "df[\"sticker_name\"] = sticker_name1 + sticker_name2 + sticker_name3\n",
        "\n",
        "# 후원금액 컬럼 생성\n",
        "def sticker_price(x):\n",
        "    if x == \"Lollipop.png__\":\n",
        "        return 1\n",
        "    elif x == \"Heart.png__\":\n",
        "        return 10\n",
        "    elif x == \"I’mhere!.png__\":\n",
        "        return 20\n",
        "    elif x == \"Kiss.png__\":\n",
        "        return 33\n",
        "    elif x == \"CupofCoffee.png__\":\n",
        "        return 35\n",
        "    elif x == \"goodnight.png__\":\n",
        "        return 50\n",
        "    elif x == \"Makeitrain.png__\":\n",
        "        return 50\n",
        "    elif x == \"Hereforyou.png__\":\n",
        "        return 100\n",
        "    elif x == \"Abouttoloseit.png__\":\n",
        "        return 100\n",
        "    elif x == \"Overthemoon.png__\":\n",
        "        return 100\n",
        "    elif x == \"Partytime.png__\":\n",
        "        return 100\n",
        "    elif x == \"Flowerbouquet.png__\":\n",
        "        return 100\n",
        "    elif x == \"Chickendinner.png__\":\n",
        "        return 200\n",
        "    elif x == \"Congrats!.png__\":\n",
        "        return 300\n",
        "    elif x == \"Cake.png__\":\n",
        "        return 300\n",
        "    elif x == \"Fruitbox.png__\":\n",
        "        return 500\n",
        "    elif x == \"OH~.png__\":\n",
        "        return 500\n",
        "    elif x == \"Sneakers.png__\":\n",
        "        return 800\n",
        "    elif x == \"Go!Go!Go!.png__\":\n",
        "        return 1000\n",
        "    elif x == \"Diamond.png__\":\n",
        "        return 1000\n",
        "    elif x == \"HappyBirthday.png__\":\n",
        "        return 3000\n",
        "    elif x == \"Let’splay.png__\":\n",
        "        return 5000\n",
        "    elif x == \"HolidayVibes.png__\":\n",
        "        return 10000\n",
        "    elif x == \"giftset1.png\":\n",
        "        return 100\n",
        "    elif x == \"giftset2.png\":\n",
        "        return 500\n",
        "    elif x == \"giftset3.png\":\n",
        "        return 1000\n",
        "    elif x == \"wi120220707.png\":\n",
        "        return 100\n",
        "    elif x == \"02위칭.png_\":\n",
        "        return 100\n",
        "    elif x == \"bi120220707.png\":\n",
        "        return 100\n",
        "    elif x == \"나윤님추천수정.png\":\n",
        "        return 100\n",
        "    elif x == \"나윤님비추.png_\":\n",
        "        return 100\n",
        "    elif x == \"라마1004님배경없음.png_\":\n",
        "        return 10\n",
        "    elif x == \"bom120220707.png\":\n",
        "        return 100\n",
        "    elif x == \"so120220707\":\n",
        "        return 100\n",
        "    elif x == \"해빈1.png_\":\n",
        "        return 30\n",
        "    elif x == \"해빈2.png_\":\n",
        "        return 30\n",
        "    elif x == \"해빈3.png_\":\n",
        "        return 30\n",
        "    elif x == \"백찬1.png_\":\n",
        "        return 30\n",
        "    elif x == \"백찬2.png_\":\n",
        "        return 30\n",
        "    elif x == \"백찬3.png_\":\n",
        "        return 30\n",
        "    elif x == \"이안1.png_\":\n",
        "        return 30\n",
        "    elif x == \"이안2.png_\":\n",
        "        return 30\n",
        "    elif x == \"이안3.png_\":\n",
        "        return 30\n",
        "    elif x == \"윤1.png_\":\n",
        "        return 30\n",
        "    elif x == \"윤2.png_\":\n",
        "        return 30\n",
        "    elif x == \"윤3.png_\":\n",
        "        return 30\n",
        "    elif x == \"호림1.png_\":\n",
        "        return 30\n",
        "    elif x == \"호림2.png_\":\n",
        "        return 30\n",
        "    elif x == \"호림3.png_\":\n",
        "        return 30\n",
        "    elif x == \"영보1.png__\":\n",
        "        return 30\n",
        "    elif x == \"영보3.png__\":\n",
        "        return 30\n",
        "    elif x == \"YG미쯔.jpg_\":\n",
        "        return 100\n",
        "    elif x == \"YG천사.jpg_\":\n",
        "        return 1004\n",
        "    elif x == \"nb1.jpeg_\":\n",
        "        return 20\n",
        "    elif x == \"KLian3.png_\":\n",
        "        return 10\n",
        "    elif x == \"ma120220707.png\":\n",
        "        return 100\n",
        "    elif x == \"q220220707.png\":\n",
        "        return 100\n",
        "    elif x == \"q520220707\":\n",
        "        return 100\n",
        "    elif x == \"q320220707\":\n",
        "        return 100\n",
        "    elif x == \"YH120220724033317.png\":\n",
        "        return 10\n",
        "    else:\n",
        "        return 0\n",
        "df[\"sticker_price\"] = df[\"sticker_name\"].apply(lambda x : sticker_price(x))"
      ],
      "metadata": {
        "id": "ZAuf2V9zW_se"
      },
      "execution_count": 8,
      "outputs": []
    },
    {
      "cell_type": "code",
      "source": [
        "# 개인 커뮤니티 여부\n",
        "df[\"private_community\"] = 0\n",
        "\n",
        "tgd_index = df[df['커뮤니티 링크'].str.contains('tgd', na=False)].index\n",
        "discord_index = df[df['커뮤니티 링크'].str.contains('discord', na=False)].index\n",
        "cafe_index = df[df['커뮤니티 링크'].str.contains('cafe', na=False)].index\n",
        "etc_index1 = df[df['커뮤니티 링크'].str.contains('트게더', na=False)].index\n",
        "etc_index2 = df[df['커뮤니티 링크'].str.contains('카페', na=False)].index\n",
        "etc_index3 = df[df['커뮤니티 링크'].str.contains('디스코드', na=False)].index\n",
        "etc_index4 = df[df['커뮤니티 링크'].str.contains('트개더', na=False)].index\n",
        "\n",
        "df.loc[tgd_index, ['private_community']] = 1\n",
        "df.loc[discord_index, ['private_community']] = 1\n",
        "df.loc[cafe_index, ['private_community']] = 1\n",
        "df.loc[etc_index1, ['private_community']] = 1\n",
        "df.loc[etc_index2, ['private_community']] = 1\n",
        "df.loc[etc_index3, ['private_community']] = 1\n",
        "df.loc[etc_index4, ['private_community']] = 1"
      ],
      "metadata": {
        "id": "omXAfB9HBRt8"
      },
      "execution_count": 9,
      "outputs": []
    },
    {
      "cell_type": "code",
      "source": [
        "# 메세지 길이\n",
        "df['message_len'] = df['message'].str.len()"
      ],
      "metadata": {
        "id": "HOw94LxoX3fF"
      },
      "execution_count": 10,
      "outputs": []
    },
    {
      "cell_type": "code",
      "source": [
        "# 아프리카 컬럼 결측치 제거 및 데이터 단일화(?) 그리고 자료형 인트화\n",
        "# 트위치의 팔로워 개념과 같은 애청자(즐겨찾기)만 남겨놓음\n",
        "\n",
        "df['아프리카(애청자/팬클럽)'].fillna(0, inplace = True)\n",
        "df['아프리카(애청자/팬클럽)'] = df['아프리카(애청자/팬클럽)'].replace('15,777/11542', '15777')\n",
        "df['아프리카(애청자/팬클럽)'] = df['아프리카(애청자/팬클럽)'].replace('13,763/2430', '13763')\n",
        "df['아프리카(애청자/팬클럽)'] = df['아프리카(애청자/팬클럽)'].replace('171,372/18,901', '171372')\n",
        "df['아프리카(애청자/팬클럽)'] = df['아프리카(애청자/팬클럽)'].replace('9,069/1,848', '9069')\n",
        "df['아프리카(애청자/팬클럽)'] = df['아프리카(애청자/팬클럽)'].replace('1,600/1,135', '1600')\n",
        "df['아프리카(애청자/팬클럽)'] = df['아프리카(애청자/팬클럽)'].replace('4.7천', '4700')\n",
        "df['아프리카(애청자/팬클럽)'] = df['아프리카(애청자/팬클럽)'].replace('2,663/2,659', '2663')\n",
        "df['아프리카(애청자/팬클럽)'] = df['아프리카(애청자/팬클럽)'].replace('1.9천', '1900')\n",
        "df = df.astype({'아프리카(애청자/팬클럽)':'int'})\n",
        "\n",
        "df['유튜브 수'].fillna(0, inplace = True)\n",
        "df['유튜브 수'] = df['유튜브 수'].replace('?', '0')"
      ],
      "metadata": {
        "id": "WVA_mdhUXIfx"
      },
      "execution_count": 11,
      "outputs": []
    },
    {
      "cell_type": "code",
      "source": [
        "# 채널주인 url은 다르나 닉네임이 같은 경우 구분 ex) 마녀** -> 마녀**_1, 마녀**_2\n",
        "idx_1 = df[(df[\"채널주인\"] == \"sendbird_group_channel_85027934_96d14caeb215fa030b76ab8a449dafae0e252bfe\") & (df[\"sender_nickname_secured\"] == \"마녀**\")].index\n",
        "idx_2 = df[(df[\"채널주인\"] == \"sendbird_group_channel_49408541_0366b6c9039293477356a8ab37fd7317d6a25228\") & (df[\"sender_nickname_secured\"] == \"마녀**\")].index\n",
        "idx_3 = df[(df[\"채널주인\"] == \"sendbird_group_channel_51673049_e9127466665f7535749033f986c3e01c7a67cfc1\") & (df[\"sender_nickname_secured\"] == \"🍒체******\")].index\n",
        "idx_4 = df[(df[\"채널주인\"] == \"sendbird_group_channel_88950504_2e806ea8bf0ab44eaa5fb93978529427c2053262\") & (df[\"sender_nickname_secured\"] == \"🍒체******\")].index\n",
        "idx_5 = df[(df[\"채널주인\"] == \"sendbird_group_channel_82333993_7fe5b9c11092fdc107a23a6dcb482634eb75b3da\") & (df[\"sender_nickname_secured\"] == \"🍒체******\")].index\n",
        "idx_6 = df[(df[\"채널주인\"] == \"sendbird_group_channel_82336139_dc97c0b3b177072e91bf628625d5fa7539db532a\") & (df[\"sender_nickname_secured\"] == \"🍒체******\")].index\n",
        "idx_7 = df[(df[\"채널주인\"] == \"sendbird_group_channel_51672917_5e13f3722cbeec5c766726c332c063e310e5f9ce\") & (df[\"sender_nickname_secured\"] == \"🍒체******\")].index\n",
        "idx_8 = df[(df[\"채널주인\"] == \"sendbird_group_channel_82337532_c81ea37759a4761f4f6989e5f0f170f2e7a723fd\") & (df[\"sender_nickname_secured\"] == \"🍒체******\")].index\n",
        "\n",
        "df.loc[idx_1, ['sender_nickname_secured']] = \"마녀**_1\"\n",
        "df.loc[idx_2, ['sender_nickname_secured']] = \"마녀**_2\"\n",
        "df.loc[idx_3, ['sender_nickname_secured']] = \"🍒체******_1\"\n",
        "df.loc[idx_4, ['sender_nickname_secured']] = \"🍒체******_2\"\n",
        "df.loc[idx_5, ['sender_nickname_secured']] = \"🍒체******_3\"\n",
        "df.loc[idx_6, ['sender_nickname_secured']] = \"🍒체******_4\"\n",
        "df.loc[idx_7, ['sender_nickname_secured']] = \"🍒체******_5\"\n",
        "df.loc[idx_8, ['sender_nickname_secured']] = \"🍒체******_6\""
      ],
      "metadata": {
        "id": "hM7hmDuRXJ7s"
      },
      "execution_count": 12,
      "outputs": []
    },
    {
      "cell_type": "code",
      "source": [
        "# 채널주인 url은 다르나 채널이름이 같은 경우 구분\n",
        "owner_url1 = df[df[\"sender_nickname_secured\"] == \"🍒체******_2\"][\"채널주인\"].unique()\n",
        "owner_url2 = df[df[\"sender_nickname_secured\"] == \"🍒체******_3\"][\"채널주인\"].unique()\n",
        "owner_url3 = df[df[\"sender_nickname_secured\"] == \"🍒체******_4\"][\"채널주인\"].unique()\n",
        "\n",
        "owner_url4 = df[df[\"sender_nickname_secured\"] == \"🍒체******_1\"][\"채널주인\"].unique()\n",
        "owner_url5 = df[df[\"sender_nickname_secured\"] == \"🍒체******_5\"][\"채널주인\"].unique()\n",
        "\n",
        "idx_9 = df[df[\"channel_url_x\"] == owner_url1[0]].index\n",
        "idx_10 = df[df[\"channel_url_x\"] == owner_url2[0]].index\n",
        "idx_11 = df[df[\"channel_url_x\"] == owner_url3[0]].index\n",
        "\n",
        "idx_12 = df[df[\"channel_url_x\"] == owner_url4[0]].index\n",
        "idx_13 = df[df[\"channel_url_x\"] == owner_url5[0]].index\n",
        "\n",
        "df.loc[idx_9, ['channel_name_secured']] = \"🍒체******_1\"\n",
        "df.loc[idx_10, ['channel_name_secured']] = \"🍒체******_2\"\n",
        "df.loc[idx_11, ['channel_name_secured']] = \"🍒체******_3\"\n",
        "\n",
        "df.loc[idx_12, ['channel_name_secured']] = \"🍒체********************_1\"\n",
        "df.loc[idx_13, ['channel_name_secured']] = \"🍒체********************_2\""
      ],
      "metadata": {
        "id": "BFUPDsfjX80W"
      },
      "execution_count": 13,
      "outputs": []
    },
    {
      "cell_type": "code",
      "source": [
        "# 피클 파일 저장 df_clean.pickle\n",
        "with open('/content/drive/MyDrive/CP2/df_clean3.pickle', 'wb') as f:\n",
        "\tpickle.dump(df, f, protocol=pickle.HIGHEST_PROTOCOL)"
      ],
      "metadata": {
        "id": "lENfbmZ9bOpB"
      },
      "execution_count": 15,
      "outputs": []
    }
  ],
  "metadata": {
    "colab": {
      "provenance": []
    },
    "kernelspec": {
      "display_name": "Python 3",
      "name": "python3"
    },
    "language_info": {
      "name": "python"
    }
  },
  "nbformat": 4,
  "nbformat_minor": 0
}