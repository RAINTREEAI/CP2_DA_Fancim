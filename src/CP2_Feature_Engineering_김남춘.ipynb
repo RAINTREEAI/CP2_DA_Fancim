{
  "cells": [
    {
      "cell_type": "markdown",
      "source": [
        "# df_final 컬럼 설명\n",
        "- channel_owner : 채널의 호스트\n",
        "- channel_name : 채널명\n",
        "- interval : 셀럽이 보낸 메시지 간격 (timestamp)\n",
        "- interval_sec : 셀럽이 보낸 메시지 간격 (초단위)\n",
        "- interval_mean : 셀럽이 보낸 메시지 간격 평균 (초단위)\n",
        "- usage_time : 셀럽의 어플 사용시간 (초단위) (30분 이상 미사용시 사용 종료)\n",
        "- period : 사용기간 (timestamp) (마지막으로 보낸 메시지 날짜 - 처음으로 보낸 메시지 날짜)\n",
        "- period_sec : 사용기간 (초단위)\n",
        "- first_send_date : 처음으로 보낸 메시지 날짜 (timestamp)\n",
        "- last_send_date : 마지막으로 보낸 메시지 날짜 (timestamp)\n",
        "- total_members : 채널에 들어와 있는 총 인원\n",
        "- community_yn : 외부 커뮤니티 소유 여부 (1 / 0)\n",
        "- personal_community_yn : 외부 커뮤니티 소유 여부 (1 / 0) (트게더, 아프리카 블로그 등 제외)\n",
        "- message_count : 셀럽이 보낸 총 메시지 수\n",
        "- message_count_per_period_sec : 사용기간 대비 메시지 수\n",
        "- image_count : 셀럽이 보낸 이미지 수\n",
        "- video_count : 셀럽이 보낸 영상 수\n",
        "- sound_count : 셀럽이 보낸 음성 수\n",
        "- total_sticker_price : 셀럽이 받는 샷(스티커) 총 합\n",
        "- total_sticker_count : 셀럽이 받는 샷(스티커) 총 개수\n",
        "- total_positive_sum : 전체 메시지 긍정지수(확률값) 총 합\n",
        "- total_positive_count : 전체 메시지 긍정지수 총 개수\n",
        "- celeb_positive_sum : 셀럽이 보낸 메시지 긍정지수(확률값) 총 합\n",
        "- celeb_positive_count : 셀럽이 보낸 메시지 긍정지수 총 개수\n",
        "- fan_positive_sum : 팬이 보낸 메시지 긍정지수(확률값) 총 합\n",
        "- fan_positive_count : 팬이 보낸 메시지 긍정지수 총 개수\n",
        "- twitch : 트위치 팔로워 수\n",
        "- afreeca : 아프리카 애청자/팬클럽 수\n",
        "- youtube : 유튜브 구독자 수\n",
        "- recency : 2022-2-26과 최신 차이값 (일day단위)\n",
        "- frequency : 셀럽이 보낸 총 메시지 수(message_count와 동일값이네요..?)"
      ],
      "metadata": {
        "id": "2lhF05sRLs34"
      }
    },
    {
      "cell_type": "markdown",
      "source": [
        "## 목표  \n",
        "- 셀럽이 채팅방에 머문 시간\n",
        "- 셀럽이 보낸 메세지 시간 간격\n",
        "- 셀럽이 보낸 총 메시지\n",
        "- 채팅방 총 인원\n",
        "- 타 커뮤 사용 여부\n",
        "- 첫 메시지 전송 일자 / 마지막 메시지 전송 일자\n",
        "- 첫 메시지 전송 일자 대비 메세지 수\n",
        "- 스티커 받은 금액/개수\n",
        "- 메시지 감정(긍정) 수치(전체 / 셀럽이 보낸/ 팬이 보낸)\n",
        "- 셉럽의 메시지 최근 정도 R  \n",
        "- 셀럽의 메시지 빈도 F"
      ],
      "metadata": {
        "id": "W-XJkLuNz2og"
      }
    },
    {
      "cell_type": "code",
      "execution_count": null,
      "metadata": {
        "colab": {
          "base_uri": "https://localhost:8080/"
        },
        "id": "i1pqqCO4gFu9",
        "outputId": "d0d40e2a-3cf2-4fbb-e32d-56dcec95cdf9"
      },
      "outputs": [
        {
          "output_type": "stream",
          "name": "stdout",
          "text": [
            "Looking in indexes: https://pypi.org/simple, https://us-python.pkg.dev/colab-wheels/public/simple/\n",
            "Collecting pickle-mixin\n",
            "  Downloading pickle-mixin-1.0.2.tar.gz (5.1 kB)\n",
            "Building wheels for collected packages: pickle-mixin\n",
            "  Building wheel for pickle-mixin (setup.py) ... \u001b[?25l\u001b[?25hdone\n",
            "  Created wheel for pickle-mixin: filename=pickle_mixin-1.0.2-py3-none-any.whl size=6006 sha256=fd0edaf025da6f8d40360c8a0038f4e55eb284ba7a9a71d1b79c25630ccd8801\n",
            "  Stored in directory: /root/.cache/pip/wheels/2a/a4/6c/83bfbc3b94f1bb43d634b07a6a893fd437a45c58b29aea5142\n",
            "Successfully built pickle-mixin\n",
            "Installing collected packages: pickle-mixin\n",
            "Successfully installed pickle-mixin-1.0.2\n"
          ]
        }
      ],
      "source": [
        "! pip install pickle-mixin"
      ]
    },
    {
      "cell_type": "code",
      "execution_count": null,
      "metadata": {
        "id": "mkozkDpKRQ3t"
      },
      "outputs": [],
      "source": [
        "# 워닝 은닉\n",
        "import warnings\n",
        "warnings.filterwarnings(action='ignore')"
      ]
    },
    {
      "cell_type": "code",
      "execution_count": null,
      "metadata": {
        "id": "qKxsy-_CxFhX"
      },
      "outputs": [],
      "source": [
        "# 라이브러리 import\n",
        "import pickle\n",
        "import pandas as pd\n",
        "import numpy as np\n",
        "import re\n",
        "from datetime import datetime"
      ]
    },
    {
      "cell_type": "code",
      "execution_count": null,
      "metadata": {
        "id": "7Rm6136HRQ3t"
      },
      "outputs": [],
      "source": [
        "# row 생략 없이 출력\n",
        "pd.set_option('display.max_rows', None)\n",
        "# columns 생략 없이 출력\n",
        "pd.set_option('display.max_columns', None)\n",
        "# 문자열 출력 길이\n",
        "pd.options.display.max_colwidth = 100"
      ]
    },
    {
      "cell_type": "code",
      "execution_count": null,
      "metadata": {
        "colab": {
          "base_uri": "https://localhost:8080/"
        },
        "id": "RF6EQkQ6wDYz",
        "outputId": "d85fa68d-9450-4f9d-8f73-1539a809a641"
      },
      "outputs": [
        {
          "output_type": "stream",
          "name": "stdout",
          "text": [
            "Mounted at /content/drive\n"
          ]
        }
      ],
      "source": [
        "# 구글 드라이브 연걸\n",
        "from google.colab import drive\n",
        "drive.mount('/content/drive')"
      ]
    },
    {
      "cell_type": "code",
      "execution_count": null,
      "metadata": {
        "id": "wF87O5iwv_gx"
      },
      "outputs": [],
      "source": [
        "# row 데이터 불러오기\n",
        "with open('/content/drive/MyDrive/CP2/df_clean3.pickle', 'rb') as f:\n",
        "    data = pickle.load(f)"
      ]
    },
    {
      "cell_type": "code",
      "source": [
        "data.columns"
      ],
      "metadata": {
        "colab": {
          "base_uri": "https://localhost:8080/"
        },
        "id": "EhYjuA7lJXN9",
        "outputId": "1280dbe4-b428-4133-bf3f-4a00b1f3c7b5"
      },
      "execution_count": null,
      "outputs": [
        {
          "output_type": "execute_result",
          "data": {
            "text/plain": [
              "Index(['channel_url_x', 'type', 'message', 'created_at', 'id type',\n",
              "       'channel_member_count_x', 'message_count', 'channel_created_at',\n",
              "       'registration date', 'total_shot', '트위치', '아프리카(애청자/팬클럽)', '유튜브 수',\n",
              "       '메인 플랫폼 링크', '콘텐츠 카테고리', '메인 평균 방송시간(9개)/업로드주기', '평균 시청 횟수/최근 조회수',\n",
              "       '커뮤니티 링크', '성별', '얼굴 공개 여부', '채널주인', 'channel_name_secured',\n",
              "       'sender_nickname_secured', 'sender_id_secured', 'sticker_name',\n",
              "       'sticker_price', 'private_community', 'message_len'],\n",
              "      dtype='object')"
            ]
          },
          "metadata": {},
          "execution_count": 6
        }
      ]
    },
    {
      "cell_type": "code",
      "source": [
        "# 원본 카피\n",
        "df = data.copy()"
      ],
      "metadata": {
        "id": "drJf_lNj8jnz"
      },
      "execution_count": null,
      "outputs": []
    },
    {
      "cell_type": "code",
      "source": [
        "owner = df[df[\"채널주인\"].notnull()][\"채널주인\"].unique()\n",
        "nick = df[df[\"id type\"] == \"celeb\"][\"sender_nickname_secured\"].unique()\n",
        "channel_owner = df[(df[\"id type\"] == \"celeb\") & (df[\"채널주인\"].notnull())][\"채널주인\"].unique()\n",
        "channel_owner2 = df[(df[\"id type\"] == \"fan\") & (df[\"채널주인\"].notnull())][\"채널주인\"].unique()\n",
        "intersection = list(set(channel_owner) & set(channel_owner2))\n",
        "print(len(owner)) # 전체 채널url 수\n",
        "print(len(nick)) # 셀럽 닉네임 수\n",
        "print(len(channel_owner)) # 셀럽 채널url 수\n",
        "print(len(channel_owner2)) # 팬 채널url 수\n",
        "print(len(intersection)) # 셀럽 & 팬 교집합 채널url 수"
      ],
      "metadata": {
        "colab": {
          "base_uri": "https://localhost:8080/"
        },
        "id": "f0-QFVEL6gCm",
        "outputId": "f8131732-e32e-40d1-813d-630ef0e890a0"
      },
      "execution_count": null,
      "outputs": [
        {
          "output_type": "stream",
          "name": "stdout",
          "text": [
            "301\n",
            "303\n",
            "300\n",
            "20\n",
            "19\n"
          ]
        }
      ]
    },
    {
      "cell_type": "code",
      "source": [
        "# 닉네임을 기준으로 채널주인(url) 매칭 (셀럽 3명 url 미존재)\n",
        "channel_host = df[(df[\"id type\"] == \"celeb\") & (df[\"sender_nickname_secured\"].notnull())][\"sender_nickname_secured\"].unique()\n",
        "df_nick = pd.DataFrame()\n",
        "nick_list = []\n",
        "url_list = []\n",
        "owner_url_list = []\n",
        "for nick in channel_host:\n",
        "    owner_url = df[(df[\"id type\"] == \"celeb\") & (df[\"sender_nickname_secured\"] == nick)][\"채널주인\"].unique()\n",
        "    nick_list.append(nick)\n",
        "    owner_url_list.append(owner_url[0])\n",
        "df_nick[\"channel_owner\"] = nick_list\n",
        "df_nick[\"owner_url\"] = owner_url_list\n",
        "\n",
        "# 결측치 채우기\n",
        "df_nick.fillna(\"None\", inplace = True)\n",
        "\n",
        "# 결측치 제거\n",
        "# df_nick.dropna(inplace = True)\n",
        "\n",
        "# 인덱스 초기화\n",
        "df_nick.sort_values(\"channel_owner\", inplace = True)\n",
        "df_nick.reset_index(drop=True, inplace=True)\n",
        "\n",
        "# channel_name_secured 매칭\n",
        "channel_name_list = []\n",
        "for i in range(len(df_nick)):\n",
        "    check = df_nick.loc[i]\n",
        "    owner = check[0]\n",
        "    url = check[1]\n",
        "    channel_name = df[(df[\"채널주인\"] == df[\"channel_url_x\"]) & (df[\"채널주인\"] == url) & (df[\"sender_nickname_secured\"] == owner)][\"channel_name_secured\"].unique()\n",
        "    if len(channel_name) == 1:\n",
        "        channel_name_list.append(channel_name[0])    \n",
        "    elif len(channel_name) == 0:\n",
        "        channel_name_list.append(\"None\")\n",
        "df_nick[\"channel_name\"] = channel_name_list\n",
        "\n",
        "df_nick.loc[df_nick['channel_owner'] == \"하나*\", 'channel_name'] = \"하나*\"\n",
        "df_nick = df_nick[[\"channel_owner\", \"channel_name\", \"owner_url\"]]"
      ],
      "metadata": {
        "id": "jk-xZ7deLmhw"
      },
      "execution_count": null,
      "outputs": []
    },
    {
      "cell_type": "code",
      "source": [
        "# 메세지 시간 간격 테이블\n",
        "df2 = pd.DataFrame(columns=[\"channel_owner\", \"interval\", \"interval_sec\", \"interval_mean\"])\n",
        "for n, owner in enumerate(df_nick[\"channel_owner\"]):\n",
        "    interval= []\n",
        "    interval_sec = []\n",
        "    # num = len(df[df[\"sender_nickname_secured\"] == owner])\n",
        "    num = len(df[(df[\"id type\"] == \"celeb\") & (df[\"sender_nickname_secured\"] == owner)])\n",
        "    date_list = list(df[(df[\"id type\"] == \"celeb\") & (df[\"sender_nickname_secured\"] == owner)][\"created_at\"].sort_values())\n",
        "    # date_list = list(df[df[\"sender_nickname_secured\"] == owner][\"created_at\"].sort_values())\n",
        "    for i in range(num):\n",
        "        j = i+1\n",
        "        if j < num:\n",
        "            subtraction = date_list[j] - date_list[i]\n",
        "            sec = subtraction.days*86400 + subtraction.seconds\n",
        "            interval.append(subtraction)\n",
        "            interval_sec.append(sec)\n",
        "        if len(interval_sec) == 0:\n",
        "            interval_mean = 0\n",
        "        else:\n",
        "            interval_mean = round(sum(interval_sec) / len(interval_sec))\n",
        "    df2.loc[n] = [owner, interval, interval_sec, interval_mean]\n",
        "\n",
        "# 인덱스 초기화\n",
        "df2.sort_values(\"channel_owner\", inplace = True)\n",
        "df2.reset_index(drop=True, inplace=True)\n",
        "\n",
        "# 채널 이름 추가\n",
        "df2[\"channel_name\"] = df_nick[\"channel_name\"]"
      ],
      "metadata": {
        "id": "_9qADvFpub2h"
      },
      "execution_count": null,
      "outputs": []
    },
    {
      "cell_type": "code",
      "source": [
        "# 셀럽이 보낸 총 메시지 수 : 보낸 사람 닉네임 기준\n",
        "celeb_message_count = df[df[\"id type\"] == \"celeb\"].groupby(\"sender_nickname_secured\").count()\n",
        "celeb_message_count.reset_index(drop=False, inplace=True)\n",
        "cnt = celeb_message_count.message\n",
        "df2[\"celeb_message_count\"] = cnt"
      ],
      "metadata": {
        "id": "GN70-YwRgkpl"
      },
      "execution_count": null,
      "outputs": []
    },
    {
      "cell_type": "code",
      "source": [
        "# 팬이 보낸 총 메시지 수 : 채널 이름 기준\n",
        "fan_message_count = df[df[\"id type\"] == \"fan\"].groupby(\"channel_name_secured\").agg({\"message_count\":\"count\"})\n",
        "fan_message_count.reset_index(drop=False, inplace=True)\n",
        "\n",
        "df2 = pd.merge(df2, fan_message_count, how=\"left\", left_on='channel_name', right_on='channel_name_secured')\n",
        "df2.rename(columns={\"message_count\":\"fan_message_count\"}, inplace=True)"
      ],
      "metadata": {
        "id": "xXdqj6LFBFV5"
      },
      "execution_count": null,
      "outputs": []
    },
    {
      "cell_type": "code",
      "source": [
        "# 채팅방 총 인원\n",
        "total_members = df[df[\"id type\"] == \"celeb\"].groupby(\"sender_nickname_secured\").mean()\n",
        "total_members.reset_index(drop=False, inplace=True)\n",
        "mean = total_members[\"channel_member_count_x\"]\n",
        "df2[\"total_members\"] = mean"
      ],
      "metadata": {
        "id": "VqbigN0X1SG9"
      },
      "execution_count": null,
      "outputs": []
    },
    {
      "cell_type": "code",
      "source": [
        "# 셀럽의 앱 사용 시간\n",
        "df2[\"usage_time\"] = 0\n",
        "for i in range(len(df2)):\n",
        "    usage_time = []\n",
        "    usage_time2 = []\n",
        "    time = 0\n",
        "    sec_list = df2[\"interval_sec\"][i]\n",
        "    for n, sec in enumerate(sec_list):\n",
        "        if len(sec_list) == 1:\n",
        "            if sec <= 1800:\n",
        "                time = sec\n",
        "                usage_time.append(time+1800)\n",
        "            else:\n",
        "                usage_time.append(3600)\n",
        "            break\n",
        "\n",
        "        if sec <= 1800:\n",
        "            time = time + sec\n",
        "            if n+1 == len(sec_list):\n",
        "                usage_time.append(time+1800) \n",
        "        else:\n",
        "            usage_time.append(time+1800)\n",
        "            time = 0\n",
        "            if n+1 == len(sec_list):\n",
        "                usage_time.append(1800) \n",
        "    df2[\"usage_time\"][i] = sum(usage_time)"
      ],
      "metadata": {
        "id": "n5N82tDAmcgZ"
      },
      "execution_count": null,
      "outputs": []
    },
    {
      "cell_type": "code",
      "source": [
        "# 셀럽이 보낸 처음 & 마지막 날짜\n",
        "df2[\"first_send_date\"] = 0\n",
        "df2[\"last_send_date\"] = 0\n",
        "for i, nick in enumerate(df_nick[\"channel_owner\"]):\n",
        "    min_date = df[df[\"sender_nickname_secured\"] == nick][\"created_at\"].min()\n",
        "    max_date = df[df[\"sender_nickname_secured\"] == nick][\"created_at\"].max()\n",
        "    df2[\"first_send_date\"][i] = min_date\n",
        "    df2[\"last_send_date\"][i] = max_date"
      ],
      "metadata": {
        "id": "G4wZhKDe6KxR"
      },
      "execution_count": null,
      "outputs": []
    },
    {
      "cell_type": "code",
      "source": [
        "# 타 커뮤니티 사용여부\n",
        "community = df[df[\"id type\"] == \"celeb\"].groupby(\"sender_nickname_secured\").mean()\n",
        "community.reset_index(drop=False, inplace=True)\n",
        "community_yn = community[\"private_community\"]\n",
        "df2[\"private_community\"] = community_yn"
      ],
      "metadata": {
        "id": "ikj2D-y79s_i"
      },
      "execution_count": null,
      "outputs": []
    },
    {
      "cell_type": "code",
      "source": [
        "# 기준날로부터 첫 메시지 전송일자 차이\n",
        "print(\"첫 메시지 전송 날짜 : \", df[\"created_at\"].min())\n",
        "print(\"마지막 메시지 전송 날짜 : \", df[\"created_at\"].max())\n",
        "standard = datetime.strptime(\"2022-09-18 00:00:00\", '%Y-%m-%d %H:%M:%S')\n",
        "\n",
        "period = standard - df2[\"first_send_date\"]\n",
        "second = []\n",
        "for i in range(len(period)):\n",
        "    s = period[i].days*86400 + period[i].seconds\n",
        "    second.append(s)\n",
        "# df2[\"period\"] = period\n",
        "df2[\"period_sec\"] = second"
      ],
      "metadata": {
        "colab": {
          "base_uri": "https://localhost:8080/"
        },
        "id": "vIggGtohBYWU",
        "outputId": "2a13557b-1e9b-4c2b-caa2-c84e5f7b8753"
      },
      "execution_count": null,
      "outputs": [
        {
          "output_type": "stream",
          "name": "stdout",
          "text": [
            "첫 메시지 전송 날짜 :  2022-02-27 01:03:05\n",
            "마지막 메시지 전송 날짜 :  2022-09-17 23:59:49\n"
          ]
        }
      ]
    },
    {
      "cell_type": "code",
      "source": [
        "# 1days 기준 가입일자(?) or 전송기간 대비 메세지 수\n",
        "df2[\"celeb_message_count_per_period_sec\"] = df2[\"celeb_message_count\"] / (df2[\"period_sec\"] / 86400)"
      ],
      "metadata": {
        "id": "_9L2VnJdCbk2"
      },
      "execution_count": null,
      "outputs": []
    },
    {
      "cell_type": "code",
      "source": [
        "# 받은 스티커 총합 / 총개수\n",
        "df_merge = pd.DataFrame()\n",
        "sticker_sum = df.groupby(\"channel_name_secured\").sum()\n",
        "sticker_count = df.groupby(\"channel_name_secured\").count()\n",
        "sticker_sum.reset_index(drop=False, inplace=True)\n",
        "sticker_count.reset_index(drop=False, inplace=True)\n",
        "\n",
        "s_sum = sticker_sum[[\"channel_name_secured\", \"sticker_price\"]]\n",
        "s_count = sticker_count[[\"channel_name_secured\", \"sticker_name\"]]\n",
        "\n",
        "df_merge = pd.merge(df2, s_sum, how='left', left_on='channel_name', right_on='channel_name_secured')\n",
        "df_merge = pd.merge(df_merge, s_count, how='left', left_on='channel_name', right_on='channel_name_secured')"
      ],
      "metadata": {
        "id": "acvAYXIgxn7V"
      },
      "execution_count": null,
      "outputs": []
    },
    {
      "cell_type": "code",
      "source": [
        "# 감정분석 데이터 불러오기\n",
        "with open('/content/drive/MyDrive/CP2/df_sentiment.pickle', 'rb') as f:\n",
        "    data_sentiment = pickle.load(f)"
      ],
      "metadata": {
        "id": "XNpk1wyOyQlE"
      },
      "execution_count": null,
      "outputs": []
    },
    {
      "cell_type": "code",
      "source": [
        "# 원본 카피\n",
        "df_sentiment = data_sentiment.copy()\n",
        "\n",
        "# 긍정 확률값 컬럼 생성\n",
        "def positive_score(dic):\n",
        "    return dic['positive']\n",
        "df_sentiment['positive_score'] = df_sentiment['labels_sh'].apply(positive_score)\n",
        "def negative_score(dic):\n",
        "    return dic['negative']\n",
        "df_sentiment['negative_score'] = df_sentiment['labels_sh'].apply(negative_score)\n",
        "\n",
        "columns = ['type', 'message', 'created_at', 'id type', 'channel_name_secured', 'sender_nick_id', 'LEN', 'labels_sh', 'positive_score', 'negative_score']\n",
        "df_sentiment = df_sentiment[columns]\n",
        "\n",
        "# 파일 타입 제거\n",
        "File = df_sentiment[df_sentiment[\"type\"] == \"FILE\"].index\n",
        "df_sentiment.drop(File, inplace=True)"
      ],
      "metadata": {
        "id": "mJXBS5CVyXnx"
      },
      "execution_count": null,
      "outputs": []
    },
    {
      "cell_type": "code",
      "source": [
        "# 전체/셀럽/팬의 감정분석 긍정 총합/건수\n",
        "positive_sum = df_sentiment.groupby([\"channel_name_secured\"]).agg({\"positive_score\":\"sum\"})\n",
        "positive_sum.reset_index(drop=False, inplace=True)\n",
        "positive_count = df_sentiment.groupby([\"channel_name_secured\"]).agg({\"positive_score\":\"count\"})\n",
        "positive_count.reset_index(drop=False, inplace=True)\n",
        "\n",
        "celeb_positive_sum = df_sentiment[df_sentiment[\"id type\"] == \"celeb\"].groupby([\"channel_name_secured\"]).agg({\"positive_score\":\"sum\"})\n",
        "celeb_positive_sum.reset_index(drop=False, inplace=True)\n",
        "celeb_positive_count = df_sentiment[df_sentiment[\"id type\"] == \"celeb\"].groupby([\"channel_name_secured\"]).agg({\"positive_score\":\"count\"})\n",
        "celeb_positive_count.reset_index(drop=False, inplace=True)\n",
        "\n",
        "fan_positive_sum = df_sentiment[df_sentiment[\"id type\"] == \"fan\"].groupby([\"channel_name_secured\"]).agg({\"positive_score\":\"sum\"})\n",
        "fan_positive_sum.reset_index(drop=False, inplace=True)\n",
        "fan_positive_count = df_sentiment[df_sentiment[\"id type\"] == \"fan\"].groupby([\"channel_name_secured\"]).agg({\"positive_score\":\"count\"})\n",
        "fan_positive_count.reset_index(drop=False, inplace=True)\n",
        "\n",
        "positive_merge = pd.merge(positive_sum, positive_count, how='left', left_on='channel_name_secured', right_on='channel_name_secured')\n",
        "positive_merge.rename(columns={\"channel_name_secured\" : \"channel_name\", \"positive_score_x\" : \"total_positive_sum\", \"positive_score_y\" : \"total_positive_count\"}, inplace=True)\n",
        "\n",
        "celeb_positive_merge = pd.merge(celeb_positive_sum, celeb_positive_count, how='left', left_on='channel_name_secured', right_on='channel_name_secured')\n",
        "celeb_positive_merge.rename(columns={\"channel_name_secured\" : \"channel_name\", \"positive_score_x\" : \"celeb_positive_sum\", \"positive_score_y\" : \"celeb_positive_count\"}, inplace=True)\n",
        "\n",
        "fan_positive_merge = pd.merge(fan_positive_sum, fan_positive_count, how='left', left_on='channel_name_secured', right_on='channel_name_secured')\n",
        "fan_positive_merge.rename(columns={\"channel_name_secured\" : \"channel_name\", \"positive_score_x\" : \"fan_positive_sum\", \"positive_score_y\" : \"fan_positive_count\"}, inplace=True)\n",
        "\n",
        "df_merge = pd.merge(df_merge, positive_merge, how='left', left_on='channel_name', right_on='channel_name')\n",
        "df_merge = pd.merge(df_merge, celeb_positive_merge, how='left', left_on='channel_name', right_on='channel_name')\n",
        "df_merge = pd.merge(df_merge, fan_positive_merge, how='left', left_on='channel_name', right_on='channel_name')"
      ],
      "metadata": {
        "id": "reYTXg25zpT5"
      },
      "execution_count": null,
      "outputs": []
    },
    {
      "cell_type": "code",
      "source": [
        "# 전체/셀럽/팬의 감정분석 부정 총합/건수\n",
        "negative_sum = df_sentiment.groupby([\"channel_name_secured\"]).agg({\"negative_score\":\"sum\"})\n",
        "negative_sum.reset_index(drop=False, inplace=True)\n",
        "negative_count = df_sentiment.groupby([\"channel_name_secured\"]).agg({\"negative_score\":\"count\"})\n",
        "negative_count.reset_index(drop=False, inplace=True)\n",
        "\n",
        "celeb_negative_sum = df_sentiment[df_sentiment[\"id type\"] == \"celeb\"].groupby([\"channel_name_secured\"]).agg({\"negative_score\":\"sum\"})\n",
        "celeb_negative_sum.reset_index(drop=False, inplace=True)\n",
        "celeb_negative_count = df_sentiment[df_sentiment[\"id type\"] == \"celeb\"].groupby([\"channel_name_secured\"]).agg({\"negative_score\":\"count\"})\n",
        "celeb_negative_count.reset_index(drop=False, inplace=True)\n",
        "\n",
        "fan_negative_sum = df_sentiment[df_sentiment[\"id type\"] == \"fan\"].groupby([\"channel_name_secured\"]).agg({\"negative_score\":\"sum\"})\n",
        "fan_negative_sum.reset_index(drop=False, inplace=True)\n",
        "fan_negative_count = df_sentiment[df_sentiment[\"id type\"] == \"fan\"].groupby([\"channel_name_secured\"]).agg({\"negative_score\":\"count\"})\n",
        "fan_negative_count.reset_index(drop=False, inplace=True)\n",
        "\n",
        "negative_merge = pd.merge(negative_sum, negative_count, how='left', left_on='channel_name_secured', right_on='channel_name_secured')\n",
        "negative_merge.rename(columns={\"channel_name_secured\" : \"channel_name\", \"negative_score_x\" : \"total_negative_sum\", \"negative_score_y\" : \"total_negative_count\"}, inplace=True)\n",
        "\n",
        "celeb_negative_merge = pd.merge(celeb_negative_sum, celeb_negative_count, how='left', left_on='channel_name_secured', right_on='channel_name_secured')\n",
        "celeb_negative_merge.rename(columns={\"channel_name_secured\" : \"channel_name\", \"negative_score_x\" : \"celeb_negative_sum\", \"negative_score_y\" : \"celeb_negative_count\"}, inplace=True)\n",
        "\n",
        "fan_negative_merge = pd.merge(fan_negative_sum, fan_negative_count, how='left', left_on='channel_name_secured', right_on='channel_name_secured')\n",
        "fan_negative_merge.rename(columns={\"channel_name_secured\" : \"channel_name\", \"negative_score_x\" : \"fan_negative_sum\", \"negative_score_y\" : \"fan_negative_count\"}, inplace=True)\n",
        "\n",
        "df_merge = pd.merge(df_merge, negative_merge, how='left', left_on='channel_name', right_on='channel_name')\n",
        "df_merge = pd.merge(df_merge, celeb_negative_merge, how='left', left_on='channel_name', right_on='channel_name')\n",
        "df_merge = pd.merge(df_merge, fan_negative_merge, how='left', left_on='channel_name', right_on='channel_name')\n",
        "\n",
        "df_merge[\"sentiment\"] = df_merge[\"total_positive_sum\"] - df_merge[\"total_negative_sum\"]\n",
        "df_merge[\"celeb_sentiment\"] = df_merge[\"celeb_positive_sum\"] - df_merge[\"celeb_negative_sum\"]\n",
        "df_merge[\"fan_sentiment\"] = df_merge[\"fan_positive_sum\"] - df_merge[\"fan_negative_sum\"]"
      ],
      "metadata": {
        "id": "WdEEU4vjc4md"
      },
      "execution_count": null,
      "outputs": []
    },
    {
      "cell_type": "code",
      "source": [
        "# 트위치, 아프리카, 유튜브 팔로워 수\n",
        "follow = df[df[\"id type\"] == \"celeb\"].groupby([\"sender_nickname_secured\"]).agg({\"트위치\" : \"max\", \"아프리카(애청자/팬클럽)\" : \"max\", \"유튜브 수\" : \"max\"})\n",
        "follow.reset_index(drop=False, inplace=True)\n",
        "follow.columns = ['sender_nickname', 'twitch','afreeca','youtube']\n",
        "# follow.fillna(0, inplace=True)\n",
        "df_merge = pd.merge(df_merge, follow, how='left', left_on='channel_owner', right_on='sender_nickname')"
      ],
      "metadata": {
        "id": "me4-Q1lV9Ppo"
      },
      "execution_count": null,
      "outputs": []
    },
    {
      "cell_type": "code",
      "source": [
        "# 셀럽이 보낸 이미지 수\n",
        "image = df[(df[\"id type\"] == \"celeb\") & (df[\"message\"].str.contains(\".jpe|.jpg|.png\"))].groupby(\"sender_nickname_secured\").agg({\"message\" : \"count\"})\n",
        "image.reset_index(drop=False, inplace=True)\n",
        "image.rename(columns={\"message\" : \"image_count\"}, inplace=True)\n",
        "\n",
        "# 셀럽이 보낸 영상 수\n",
        "video = df[(df[\"id type\"] == \"celeb\") & (df[\"message\"].str.contains(\".mp4|.mov\"))].groupby(\"sender_nickname_secured\").agg({\"message\" : \"count\"})\n",
        "video.reset_index(drop=False, inplace=True)\n",
        "video.rename(columns={\"message\" : \"video_count\"}, inplace=True)\n",
        "\n",
        "# 셀럽이 보낸 음성 수\n",
        "sound = df[(df[\"id type\"] == \"celeb\") & (df[\"message\"].str.contains(\".wav\"))].groupby(\"sender_nickname_secured\").agg({\"message\" : \"count\"})\n",
        "sound.reset_index(drop=False, inplace=True)\n",
        "sound.rename(columns={\"message\" : \"sound_count\"}, inplace=True)\n",
        "\n",
        "# merge\n",
        "file_merge = pd.merge(image, video, how='left', on='sender_nickname_secured')\n",
        "file_merge = pd.merge(file_merge, sound, how='left', on='sender_nickname_secured')\n",
        "\n",
        "df_merge = pd.merge(df_merge, file_merge, how='left', left_on='channel_owner', right_on='sender_nickname_secured')"
      ],
      "metadata": {
        "id": "2lj_DHWmEx_R"
      },
      "execution_count": null,
      "outputs": []
    },
    {
      "cell_type": "code",
      "source": [
        "df_merge.info()"
      ],
      "metadata": {
        "colab": {
          "base_uri": "https://localhost:8080/"
        },
        "id": "yZuMtfRHiUJ6",
        "outputId": "37fb7125-73d3-4f23-b590-23f2bfd87fb2"
      },
      "execution_count": null,
      "outputs": [
        {
          "output_type": "stream",
          "name": "stdout",
          "text": [
            "<class 'pandas.core.frame.DataFrame'>\n",
            "Int64Index: 303 entries, 0 to 302\n",
            "Data columns (total 42 columns):\n",
            " #   Column                              Non-Null Count  Dtype  \n",
            "---  ------                              --------------  -----  \n",
            " 0   channel_owner                       303 non-null    object \n",
            " 1   interval                            303 non-null    object \n",
            " 2   interval_sec                        303 non-null    object \n",
            " 3   interval_mean                       303 non-null    object \n",
            " 4   channel_name                        303 non-null    object \n",
            " 5   celeb_message_count                 303 non-null    int64  \n",
            " 6   channel_name_secured_x              224 non-null    object \n",
            " 7   fan_message_count                   224 non-null    float64\n",
            " 8   total_members                       303 non-null    float64\n",
            " 9   usage_time                          303 non-null    int64  \n",
            " 10  first_send_date                     303 non-null    object \n",
            " 11  last_send_date                      303 non-null    object \n",
            " 12  private_community                   303 non-null    float64\n",
            " 13  period_sec                          303 non-null    int64  \n",
            " 14  celeb_message_count_per_period_sec  303 non-null    float64\n",
            " 15  channel_name_secured_y              226 non-null    object \n",
            " 16  sticker_price                       226 non-null    float64\n",
            " 17  channel_name_secured                226 non-null    object \n",
            " 18  sticker_name                        226 non-null    float64\n",
            " 19  total_positive_sum                  221 non-null    float64\n",
            " 20  total_positive_count                221 non-null    float64\n",
            " 21  celeb_positive_sum                  219 non-null    float64\n",
            " 22  celeb_positive_count                219 non-null    float64\n",
            " 23  fan_positive_sum                    219 non-null    float64\n",
            " 24  fan_positive_count                  219 non-null    float64\n",
            " 25  total_negative_sum                  221 non-null    float64\n",
            " 26  total_negative_count                221 non-null    float64\n",
            " 27  celeb_negative_sum                  219 non-null    float64\n",
            " 28  celeb_negative_count                219 non-null    float64\n",
            " 29  fan_negative_sum                    219 non-null    float64\n",
            " 30  fan_negative_count                  219 non-null    float64\n",
            " 31  sentiment                           221 non-null    float64\n",
            " 32  celeb_sentiment                     219 non-null    float64\n",
            " 33  fan_sentiment                       219 non-null    float64\n",
            " 34  sender_nickname                     303 non-null    object \n",
            " 35  twitch                              277 non-null    float64\n",
            " 36  afreeca                             303 non-null    int64  \n",
            " 37  youtube                             303 non-null    object \n",
            " 38  sender_nickname_secured             201 non-null    object \n",
            " 39  image_count                         201 non-null    float64\n",
            " 40  video_count                         53 non-null     float64\n",
            " 41  sound_count                         34 non-null     float64\n",
            "dtypes: float64(25), int64(4), object(13)\n",
            "memory usage: 101.8+ KB\n"
          ]
        }
      ]
    },
    {
      "cell_type": "code",
      "source": [
        "df_merge.fillna(0, inplace = True)\n",
        "\n",
        "type_change = {'interval_mean':'int', 'total_members':'int', 'image_count':'int', 'video_count':'int', 'sound_count':'int', 'sticker_price':'int', 'twitch':'int', 'youtube':'int', 'private_community' : 'str'}\n",
        "df_merge = df_merge.astype(type_change)\n",
        "\n",
        "# 메세지:파일 타입 총 합\n",
        "df_merge[\"file_count\"] = df_merge[\"image_count\"] + df_merge[\"video_count\"] + df_merge[\"sound_count\"]\n",
        "\n",
        "# 팔로워 총 합\n",
        "follow_count = []\n",
        "for i in range(len(df_merge)):\n",
        "    twitch = df_merge[\"twitch\"][i]\n",
        "    afreeca = df_merge[\"afreeca\"][i]\n",
        "    youtube = df_merge[\"youtube\"][i]\n",
        "    follow = max(twitch, afreeca, youtube)\n",
        "    follow_count.append(follow)\n",
        "df_merge[\"follow_count\"] = follow_count"
      ],
      "metadata": {
        "id": "x5VYxKH5d0A9"
      },
      "execution_count": null,
      "outputs": []
    },
    {
      "cell_type": "code",
      "source": [
        "# 컬럼명 / 컬럼 순서 정리 (최종)\n",
        "columns = ['channel_owner', 'channel_name', \n",
        "           'interval', 'interval_sec', 'interval_mean', \n",
        "           'usage_time', 'period_sec', 'first_send_date', 'last_send_date', 'private_community',  \n",
        "           'total_members', 'celeb_message_count', 'celeb_message_count_per_period_sec', 'fan_message_count',\n",
        "           'file_count', 'image_count', 'video_count', 'sound_count', 'sticker_price', 'sticker_name', \n",
        "           'total_positive_sum', 'total_positive_count', 'celeb_positive_sum', 'celeb_positive_count', 'fan_positive_sum', 'fan_positive_count', \n",
        "           'total_negative_sum', 'total_negative_count', 'celeb_negative_sum', 'celeb_negative_count', 'fan_negative_sum', 'fan_negative_count',\n",
        "           'sentiment', 'celeb_sentiment', 'fan_sentiment', 'follow_count', 'twitch', 'afreeca', 'youtube']\n",
        "df_final = df_merge[columns]\n",
        "df_final.rename(columns={\"sticker_price\" : \"total_sticker_price\", \"sticker_name\" : \"total_sticker_count\"}, inplace=True)"
      ],
      "metadata": {
        "id": "EL5TRi1l7jks"
      },
      "execution_count": null,
      "outputs": []
    },
    {
      "cell_type": "code",
      "source": [
        "# 시각화 용 csv 저장\n",
        "df_final.to_csv('/content/drive/MyDrive/CP2/df_final2.csv', index=False, encoding=\"utf-8-sig\")"
      ],
      "metadata": {
        "id": "f3Yp8pO-h-GQ"
      },
      "execution_count": null,
      "outputs": []
    },
    {
      "cell_type": "markdown",
      "source": [
        "# df_final 컬럼 설명\n",
        "- channel_owner : 채널의 호스트\n",
        "- channel_name : 채널명\n",
        "- interval : 셀럽이 보낸 메시지 간격 (timestamp)\n",
        "- interval_sec : 셀럽이 보낸 메시지 간격 (초단위)\n",
        "- interval_mean : 셀럽이 보낸 메시지 간격 평균 (초단위)\n",
        "- usage_time : 셀럽의 어플 사용시간 (초단위) (30분 이상 미사용시 사용 종료)\n",
        "- period : 사용기간 (timestamp) (마지막으로 보낸 메시지 날짜 - 처음으로 보낸 메시지 날짜)\n",
        "- period_sec : 사용기간 (초단위)\n",
        "- first_send_date : 처음으로 보낸 메시지 날짜 (timestamp)\n",
        "- last_send_date : 마지막으로 보낸 메시지 날짜 (timestamp)\n",
        "- total_members : 채널에 들어와 있는 총 인원\n",
        "- community_yn : 외부 커뮤니티 소유 여부 (1 / 0)\n",
        "- personal_community_yn : 외부 커뮤니티 소유 여부 (1 / 0) (트게더, 아프리카 블로그 등 제외)\n",
        "- message_count : 셀럽이 보낸 총 메시지 수\n",
        "- message_count_per_period_sec : 사용기간 대비 메시지 수\n",
        "- image_count : 셀럽이 보낸 이미지 수\n",
        "- video_count : 셀럽이 보낸 영상 수\n",
        "- sound_count : 셀럽이 보낸 음성 수\n",
        "- total_sticker_price : 셀럽이 받는 샷(스티커) 총 합\n",
        "- total_sticker_count : 셀럽이 받는 샷(스티커) 총 개수\n",
        "- total_positive_sum : 전체 메시지 긍정지수(확률값) 총 합\n",
        "- total_positive_count : 전체 메시지 긍정지수 총 개수\n",
        "- celeb_positive_sum : 셀럽이 보낸 메시지 긍정지수(확률값) 총 합\n",
        "- celeb_positive_count : 셀럽이 보낸 메시지 긍정지수 총 개수\n",
        "- fan_positive_sum : 팬이 보낸 메시지 긍정지수(확률값) 총 합\n",
        "- fan_positive_count : 팬이 보낸 메시지 긍정지수 총 개수\n",
        "- twitch : 트위치 팔로워 수\n",
        "- afreeca : 아프리카 애청자/팬클럽 수\n",
        "- youtube : 유튜브 구독자 수\n",
        "- recency : 2022-2-26과 최신 차이값 (일day단위)\n",
        "- frequency : 셀럽이 보낸 총 메시지 수(message_count와 동일값이네요..?)"
      ],
      "metadata": {
        "id": "QdrS91QxMWUp"
      }
    }
  ],
  "metadata": {
    "colab": {
      "provenance": []
    },
    "gpuClass": "standard",
    "kernelspec": {
      "display_name": "Python 3.8.15 ('CP2')",
      "language": "python",
      "name": "python3"
    },
    "language_info": {
      "codemirror_mode": {
        "name": "ipython",
        "version": 3
      },
      "file_extension": ".py",
      "mimetype": "text/x-python",
      "name": "python",
      "nbconvert_exporter": "python",
      "pygments_lexer": "ipython3",
      "version": "3.8.15"
    },
    "vscode": {
      "interpreter": {
        "hash": "1002282d2ce129a301816d1c1ea0a4a87be631e5faf3a61e16e346a34d0e8448"
      }
    }
  },
  "nbformat": 4,
  "nbformat_minor": 0
}